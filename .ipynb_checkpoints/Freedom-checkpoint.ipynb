{
 "cells": [
  {
   "cell_type": "markdown",
   "metadata": {},
   "source": [
    "## Set Up"
   ]
  },
  {
   "cell_type": "code",
   "execution_count": 3,
   "metadata": {
    "scrolled": true
   },
   "outputs": [
    {
     "ename": "ImportError",
     "evalue": "cannot import name 'ellipkm1' from 'scipy.special._ufuncs' (unknown location)",
     "output_type": "error",
     "traceback": [
      "\u001b[1;31m---------------------------------------------------------------------------\u001b[0m",
      "\u001b[1;31mImportError\u001b[0m                               Traceback (most recent call last)",
      "\u001b[1;32m<ipython-input-3-f226e8bdb62f>\u001b[0m in \u001b[0;36m<module>\u001b[1;34m()\u001b[0m\n\u001b[0;32m      1\u001b[0m \u001b[1;32mimport\u001b[0m \u001b[0mnumpy\u001b[0m \u001b[1;32mas\u001b[0m \u001b[0mnp\u001b[0m\u001b[1;33m\u001b[0m\u001b[0m\n\u001b[0;32m      2\u001b[0m \u001b[1;32mimport\u001b[0m \u001b[0mpandas\u001b[0m \u001b[1;32mas\u001b[0m \u001b[0mpd\u001b[0m\u001b[1;33m\u001b[0m\u001b[0m\n\u001b[1;32m----> 3\u001b[1;33m \u001b[1;32mimport\u001b[0m \u001b[0mseaborn\u001b[0m \u001b[1;32mas\u001b[0m \u001b[0msns\u001b[0m \u001b[1;31m# for visualiation\u001b[0m\u001b[1;33m\u001b[0m\u001b[0m\n\u001b[0m\u001b[0;32m      4\u001b[0m \u001b[1;32mfrom\u001b[0m \u001b[0mscipy\u001b[0m\u001b[1;33m.\u001b[0m\u001b[0mstats\u001b[0m \u001b[1;32mimport\u001b[0m \u001b[0mttest_ind\u001b[0m \u001b[1;31m# t-tests\u001b[0m\u001b[1;33m\u001b[0m\u001b[0m\n\u001b[0;32m      5\u001b[0m \u001b[1;32mimport\u001b[0m \u001b[0mstatsmodels\u001b[0m\u001b[1;33m.\u001b[0m\u001b[0mformula\u001b[0m\u001b[1;33m.\u001b[0m\u001b[0mapi\u001b[0m \u001b[1;32mas\u001b[0m \u001b[0msmf\u001b[0m \u001b[1;31m# linear modeling\u001b[0m\u001b[1;33m\u001b[0m\u001b[0m\n",
      "\u001b[1;32m~\\Anaconda3\\lib\\site-packages\\seaborn\\__init__.py\u001b[0m in \u001b[0;36m<module>\u001b[1;34m()\u001b[0m\n\u001b[0;32m      4\u001b[0m \u001b[1;33m\u001b[0m\u001b[0m\n\u001b[0;32m      5\u001b[0m \u001b[1;31m# Import seaborn objects\u001b[0m\u001b[1;33m\u001b[0m\u001b[1;33m\u001b[0m\u001b[0m\n\u001b[1;32m----> 6\u001b[1;33m \u001b[1;32mfrom\u001b[0m \u001b[1;33m.\u001b[0m\u001b[0mrcmod\u001b[0m \u001b[1;32mimport\u001b[0m \u001b[1;33m*\u001b[0m\u001b[1;33m\u001b[0m\u001b[0m\n\u001b[0m\u001b[0;32m      7\u001b[0m \u001b[1;32mfrom\u001b[0m \u001b[1;33m.\u001b[0m\u001b[0mutils\u001b[0m \u001b[1;32mimport\u001b[0m \u001b[1;33m*\u001b[0m\u001b[1;33m\u001b[0m\u001b[0m\n\u001b[0;32m      8\u001b[0m \u001b[1;32mfrom\u001b[0m \u001b[1;33m.\u001b[0m\u001b[0mpalettes\u001b[0m \u001b[1;32mimport\u001b[0m \u001b[1;33m*\u001b[0m\u001b[1;33m\u001b[0m\u001b[0m\n",
      "\u001b[1;32m~\\Anaconda3\\lib\\site-packages\\seaborn\\rcmod.py\u001b[0m in \u001b[0;36m<module>\u001b[1;34m()\u001b[0m\n\u001b[0;32m      3\u001b[0m \u001b[1;32mimport\u001b[0m \u001b[0mfunctools\u001b[0m\u001b[1;33m\u001b[0m\u001b[0m\n\u001b[0;32m      4\u001b[0m \u001b[1;32mimport\u001b[0m \u001b[0mmatplotlib\u001b[0m \u001b[1;32mas\u001b[0m \u001b[0mmpl\u001b[0m\u001b[1;33m\u001b[0m\u001b[0m\n\u001b[1;32m----> 5\u001b[1;33m \u001b[1;32mfrom\u001b[0m \u001b[1;33m.\u001b[0m \u001b[1;32mimport\u001b[0m \u001b[0mpalettes\u001b[0m\u001b[1;33m,\u001b[0m \u001b[0m_orig_rc_params\u001b[0m\u001b[1;33m\u001b[0m\u001b[0m\n\u001b[0m\u001b[0;32m      6\u001b[0m \u001b[1;33m\u001b[0m\u001b[0m\n\u001b[0;32m      7\u001b[0m \u001b[1;33m\u001b[0m\u001b[0m\n",
      "\u001b[1;32m~\\Anaconda3\\lib\\site-packages\\seaborn\\palettes.py\u001b[0m in \u001b[0;36m<module>\u001b[1;34m()\u001b[0m\n\u001b[0;32m     10\u001b[0m \u001b[1;32mfrom\u001b[0m \u001b[1;33m.\u001b[0m\u001b[0mexternal\u001b[0m\u001b[1;33m.\u001b[0m\u001b[0msix\u001b[0m\u001b[1;33m.\u001b[0m\u001b[0mmoves\u001b[0m \u001b[1;32mimport\u001b[0m \u001b[0mrange\u001b[0m\u001b[1;33m\u001b[0m\u001b[0m\n\u001b[0;32m     11\u001b[0m \u001b[1;33m\u001b[0m\u001b[0m\n\u001b[1;32m---> 12\u001b[1;33m \u001b[1;32mfrom\u001b[0m \u001b[1;33m.\u001b[0m\u001b[0mutils\u001b[0m \u001b[1;32mimport\u001b[0m \u001b[0mdesaturate\u001b[0m\u001b[1;33m,\u001b[0m \u001b[0mset_hls_values\u001b[0m\u001b[1;33m,\u001b[0m \u001b[0mget_color_cycle\u001b[0m\u001b[1;33m\u001b[0m\u001b[0m\n\u001b[0m\u001b[0;32m     13\u001b[0m \u001b[1;32mfrom\u001b[0m \u001b[1;33m.\u001b[0m\u001b[0mcolors\u001b[0m \u001b[1;32mimport\u001b[0m \u001b[0mxkcd_rgb\u001b[0m\u001b[1;33m,\u001b[0m \u001b[0mcrayons\u001b[0m\u001b[1;33m\u001b[0m\u001b[0m\n\u001b[0;32m     14\u001b[0m \u001b[1;33m\u001b[0m\u001b[0m\n",
      "\u001b[1;32m~\\Anaconda3\\lib\\site-packages\\seaborn\\utils.py\u001b[0m in \u001b[0;36m<module>\u001b[1;34m()\u001b[0m\n\u001b[0;32m      5\u001b[0m \u001b[1;33m\u001b[0m\u001b[0m\n\u001b[0;32m      6\u001b[0m \u001b[1;32mimport\u001b[0m \u001b[0mnumpy\u001b[0m \u001b[1;32mas\u001b[0m \u001b[0mnp\u001b[0m\u001b[1;33m\u001b[0m\u001b[0m\n\u001b[1;32m----> 7\u001b[1;33m \u001b[1;32mfrom\u001b[0m \u001b[0mscipy\u001b[0m \u001b[1;32mimport\u001b[0m \u001b[0mstats\u001b[0m\u001b[1;33m\u001b[0m\u001b[0m\n\u001b[0m\u001b[0;32m      8\u001b[0m \u001b[1;32mimport\u001b[0m \u001b[0mpandas\u001b[0m \u001b[1;32mas\u001b[0m \u001b[0mpd\u001b[0m\u001b[1;33m\u001b[0m\u001b[0m\n\u001b[0;32m      9\u001b[0m \u001b[1;32mimport\u001b[0m \u001b[0mmatplotlib\u001b[0m \u001b[1;32mas\u001b[0m \u001b[0mmpl\u001b[0m\u001b[1;33m\u001b[0m\u001b[0m\n",
      "\u001b[1;32m~\\Anaconda3\\lib\\site-packages\\scipy\\stats\\__init__.py\u001b[0m in \u001b[0;36m<module>\u001b[1;34m()\u001b[0m\n\u001b[0;32m    343\u001b[0m \u001b[1;32mfrom\u001b[0m \u001b[0m__future__\u001b[0m \u001b[1;32mimport\u001b[0m \u001b[0mdivision\u001b[0m\u001b[1;33m,\u001b[0m \u001b[0mprint_function\u001b[0m\u001b[1;33m,\u001b[0m \u001b[0mabsolute_import\u001b[0m\u001b[1;33m\u001b[0m\u001b[0m\n\u001b[0;32m    344\u001b[0m \u001b[1;33m\u001b[0m\u001b[0m\n\u001b[1;32m--> 345\u001b[1;33m \u001b[1;32mfrom\u001b[0m \u001b[1;33m.\u001b[0m\u001b[0mstats\u001b[0m \u001b[1;32mimport\u001b[0m \u001b[1;33m*\u001b[0m\u001b[1;33m\u001b[0m\u001b[0m\n\u001b[0m\u001b[0;32m    346\u001b[0m \u001b[1;32mfrom\u001b[0m \u001b[1;33m.\u001b[0m\u001b[0mdistributions\u001b[0m \u001b[1;32mimport\u001b[0m \u001b[1;33m*\u001b[0m\u001b[1;33m\u001b[0m\u001b[0m\n\u001b[0;32m    347\u001b[0m \u001b[1;32mfrom\u001b[0m \u001b[1;33m.\u001b[0m\u001b[0mmorestats\u001b[0m \u001b[1;32mimport\u001b[0m \u001b[1;33m*\u001b[0m\u001b[1;33m\u001b[0m\u001b[0m\n",
      "\u001b[1;32m~\\Anaconda3\\lib\\site-packages\\scipy\\stats\\stats.py\u001b[0m in \u001b[0;36m<module>\u001b[1;34m()\u001b[0m\n\u001b[0;32m    167\u001b[0m \u001b[1;32mfrom\u001b[0m \u001b[0mscipy\u001b[0m\u001b[1;33m.\u001b[0m\u001b[0m_lib\u001b[0m\u001b[1;33m.\u001b[0m\u001b[0msix\u001b[0m \u001b[1;32mimport\u001b[0m \u001b[0mcallable\u001b[0m\u001b[1;33m,\u001b[0m \u001b[0mstring_types\u001b[0m\u001b[1;33m\u001b[0m\u001b[0m\n\u001b[0;32m    168\u001b[0m \u001b[1;32mfrom\u001b[0m \u001b[0mscipy\u001b[0m\u001b[1;33m.\u001b[0m\u001b[0m_lib\u001b[0m\u001b[1;33m.\u001b[0m\u001b[0m_version\u001b[0m \u001b[1;32mimport\u001b[0m \u001b[0mNumpyVersion\u001b[0m\u001b[1;33m\u001b[0m\u001b[0m\n\u001b[1;32m--> 169\u001b[1;33m \u001b[1;32mimport\u001b[0m \u001b[0mscipy\u001b[0m\u001b[1;33m.\u001b[0m\u001b[0mspecial\u001b[0m \u001b[1;32mas\u001b[0m \u001b[0mspecial\u001b[0m\u001b[1;33m\u001b[0m\u001b[0m\n\u001b[0m\u001b[0;32m    170\u001b[0m \u001b[1;32mimport\u001b[0m \u001b[0mscipy\u001b[0m\u001b[1;33m.\u001b[0m\u001b[0mlinalg\u001b[0m \u001b[1;32mas\u001b[0m \u001b[0mlinalg\u001b[0m\u001b[1;33m\u001b[0m\u001b[0m\n\u001b[0;32m    171\u001b[0m \u001b[1;32mfrom\u001b[0m \u001b[1;33m.\u001b[0m \u001b[1;32mimport\u001b[0m \u001b[0mdistributions\u001b[0m\u001b[1;33m\u001b[0m\u001b[0m\n",
      "\u001b[1;32m~\\Anaconda3\\lib\\site-packages\\scipy\\special\\__init__.py\u001b[0m in \u001b[0;36m<module>\u001b[1;34m()\u001b[0m\n\u001b[0;32m    640\u001b[0m \u001b[1;32mfrom\u001b[0m \u001b[1;33m.\u001b[0m\u001b[0m_ufuncs\u001b[0m \u001b[1;32mimport\u001b[0m \u001b[1;33m*\u001b[0m\u001b[1;33m\u001b[0m\u001b[0m\n\u001b[0;32m    641\u001b[0m \u001b[1;33m\u001b[0m\u001b[0m\n\u001b[1;32m--> 642\u001b[1;33m \u001b[1;32mfrom\u001b[0m \u001b[1;33m.\u001b[0m\u001b[0mbasic\u001b[0m \u001b[1;32mimport\u001b[0m \u001b[1;33m*\u001b[0m\u001b[1;33m\u001b[0m\u001b[0m\n\u001b[0m\u001b[0;32m    643\u001b[0m \u001b[1;32mfrom\u001b[0m \u001b[1;33m.\u001b[0m\u001b[0m_logsumexp\u001b[0m \u001b[1;32mimport\u001b[0m \u001b[0mlogsumexp\u001b[0m\u001b[1;33m\u001b[0m\u001b[0m\n\u001b[0;32m    644\u001b[0m \u001b[1;32mfrom\u001b[0m \u001b[1;33m.\u001b[0m \u001b[1;32mimport\u001b[0m \u001b[0mspecfun\u001b[0m\u001b[1;33m\u001b[0m\u001b[0m\n",
      "\u001b[1;32m~\\Anaconda3\\lib\\site-packages\\scipy\\special\\basic.py\u001b[0m in \u001b[0;36m<module>\u001b[1;34m()\u001b[0m\n\u001b[0;32m     13\u001b[0m                    extract, less, inexact, nan, zeros, sinc)\n\u001b[0;32m     14\u001b[0m \u001b[1;32mfrom\u001b[0m \u001b[1;33m.\u001b[0m \u001b[1;32mimport\u001b[0m \u001b[0m_ufuncs\u001b[0m \u001b[1;32mas\u001b[0m \u001b[0mufuncs\u001b[0m\u001b[1;33m\u001b[0m\u001b[0m\n\u001b[1;32m---> 15\u001b[1;33m from ._ufuncs import (ellipkm1, mathieu_a, mathieu_b, iv, jv, gamma,\n\u001b[0m\u001b[0;32m     16\u001b[0m                       \u001b[0mpsi\u001b[0m\u001b[1;33m,\u001b[0m \u001b[0m_zeta\u001b[0m\u001b[1;33m,\u001b[0m \u001b[0mhankel1\u001b[0m\u001b[1;33m,\u001b[0m \u001b[0mhankel2\u001b[0m\u001b[1;33m,\u001b[0m \u001b[0myv\u001b[0m\u001b[1;33m,\u001b[0m \u001b[0mkv\u001b[0m\u001b[1;33m,\u001b[0m \u001b[0mndtri\u001b[0m\u001b[1;33m,\u001b[0m\u001b[1;33m\u001b[0m\u001b[0m\n\u001b[0;32m     17\u001b[0m                       poch, binom, hyp0f1)\n",
      "\u001b[1;31mImportError\u001b[0m: cannot import name 'ellipkm1' from 'scipy.special._ufuncs' (unknown location)"
     ]
    }
   ],
   "source": [
    "import numpy as np\n",
    "import pandas as pd\n",
    "import seaborn as sns # for visualiation\n",
    "from scipy.stats import ttest_ind # t-tests\n",
    "import statsmodels.formula.api as smf # linear modeling\n",
    "import statsmodels.api as sm\n",
    "import matplotlib.pyplot as plt # plotting\n",
    "import matplotlib\n",
    "import altair as alt\n",
    "import statsmodels.api as sm\n",
    "import statsmodels.formula.api as smf\n",
    "from IPython.display import HTML\n",
    "alt.renderers.enable('notebook')\n",
    "from sklearn import metrics\n",
    "matplotlib.style.use('ggplot')\n",
    "%matplotlib inline\n",
    "import warnings\n",
    "warnings.filterwarnings('ignore')\n",
    "\n",
    "gdp_data = pd.read_csv('./GDP.csv')\n",
    "gdp_data= gdp_data.fillna(method = \"bfill\")\n",
    "gdp_capita_data = pd.read_csv('./GDP_capita.csv')\n",
    "gdp_capita_data = gdp_capita_data.fillna(method = \"bfill\")\n",
    "rsf_freedom_data = pd.read_csv('./rsf_data.csv')\n",
    "rsf_freedom_data = rsf_freedom_data.fillna(method = \"bfill\")\n",
    "\n",
    "\n",
    "gdp_capita_codes = gdp_capita_data[\"Country Code\"].tolist()\n",
    "gdp_codes = gdp_data[\"Country Code\"].tolist()\n",
    "final_gdp_data = pd.DataFrame()\n",
    "\n",
    "for c in gdp_capita_codes:\n",
    "    if c in gdp_codes:\n",
    "        temp = gdp_data[gdp_data[\"Country Code\"] == c]\n",
    "        frames = [final_gdp_data, temp]\n",
    "        final_gdp_data = pd.concat(frames)\n",
    "final_gdp_data = final_gdp_data.merge(gdp_capita_data, on = 'Country Code')"
   ]
  },
  {
   "cell_type": "code",
   "execution_count": null,
   "metadata": {},
   "outputs": [],
   "source": [
    "HTML('''<script>\n",
    "code_show=true; \n",
    "function code_toggle() {\n",
    " if (code_show){\n",
    " $('div.input').hide();\n",
    " } else {\n",
    " $('div.input').show();\n",
    " }\n",
    " code_show = !code_show\n",
    "} \n",
    "$( document ).ready(code_toggle);\n",
    "</script>\n",
    "The raw code for this IPython notebook is by default hidden for easier reading.\n",
    "To toggle on/off the raw code, click <a href=\"javascript:code_toggle()\">here</a>.''')"
   ]
  },
  {
   "cell_type": "markdown",
   "metadata": {},
   "source": [
    "# Degrees of Freedom: GDP per Capita vs. Press Freedom"
   ]
  },
  {
   "cell_type": "markdown",
   "metadata": {},
   "source": [
    "## Introduction\n",
    "Economically prosperous countries are generally perceived to have a higher standard of living, lower poverty rates, and general happiness and freedom of citizens, than a country that is not as economically prosperous. Studies have shown that economic status plays a role in how free citizens are, which raises the question of whether the prosperity of a country’s citizens is heavily based in it’s monetary prosperity and shifts the weight towards the role that other variables like the country’s political regime, literacy rates, and more can play.\n",
    "\n",
    "One type of freedom that plays a pivotal role, in democracy in particular, is \"Freedom of the Press\". Freedom of Press is the principal of communicating information and expression through electronic or printed mediums freely. It is vital in informing citizens of a country about public affairs and holding actions of powerful governments accountable at all levels. Not only does this freedom allow citizens to gain insight on government actions, but it empowers the people to express themselves, their opinions, and gain exposure to a wide variety of information. \n",
    "\n",
    "In the new millenium, we have leveraged new technology and social media dominance to make information sharing easier to protect our basic fundamental rights. In this resource, we acknowledge the global digital divide and that many countries don’t have enough resources to access to these technologies or social media. Thus, our scope here is how press freedom through all channels plays out on the global stage. Threats like \"fake news\" and propaganda spewed through media outlets like we see in the United States pose a danger to our nation’s First Amendment of the Constitution. This sparked our curiosity in exploring the relationship between a country’s GDP status and their Freedom of Press.\n",
    "\n",
    "In this analysis, we would like to find explore if a correlation exists between a country's GDP per capita and Press Freedom Indicies.\n"
   ]
  },
  {
   "cell_type": "markdown",
   "metadata": {},
   "source": [
    "## The Data: Reporters Sans Frontières & The World Bank\n",
    "\n",
    "We used several datasets in this analysis from two different organizations to analyze the relationship between freedom of press with the GDP of a country."
   ]
  },
  {
   "cell_type": "markdown",
   "metadata": {},
   "source": [
    "### _World Press Freedom Index_\n",
    "\n",
    "To assess press freedoms, we used the “World Press Freedom Index” from Reporters without Borders (Reporters Sans Frontières). RSF in an international non-profit organization headquartered in Paris, France that has consultant status for the United Nations. Their dataset reports scores regarding press freedoms in of 188 countries, and has archives back to 2002. These scores are an Abuse Score, an Underlying Situation Score, and a difference in scores and position from the previous year.\n",
    "\n",
    "The criteria evaluated in the questionnaire are abuse, pluralism, media independence, media environment and self-censorship, legislative framework, transparency, and the quality of the infrastructure that supports the production of news and information.This data is compiled from a robust questionnaire sent to media professionals, lawyers, and sociologists in 20 languages. The Underlying Situation score encompasses data from the 7 criteria formerly described. The Abuse Score indicates the mistreatment of reporters in form of violence, persecution, and other such slander towards reporters. The Overall Freedom Score encompassess the Underlying Score and Abuse Score.\n",
    "    \n",
    "### _GDP and GDP Per Capita_\n",
    "We used datasets of Gross Domestic Product and Gross Domestic Product Per Capita (GDP divided by the country's population) from The World Bank. The World Bank Group is a financial institution that facilitates loaning money to developing countries for capital projects and is headquartered in Washington D.C. \n",
    "\n",
    "### _Variables Defined_\n",
    "\n",
    "- **Freedom Index Rank**: The country's ranking in the RSF Press Freedom Index. Countries with lower Overall Freedom Scores score higher on the Index.\n",
    "\n",
    "\n",
    "- **Abuse Score**:  Indicates the levels of mistreatment of media centers/reporters in form of violence, persecution, and other such slander towards media, reporters, and organizations. The higher the score, the greater the abuse towards media. Often abuse come from the governing regime towards unfavored/anti-establishment reporting.\n",
    "\n",
    "\n",
    "- **Underlying Situation Score**: Indicates the country's institutional conduciveness towards free media. The lower the score, the greater conducivity towards free press. Computed from measures pluralism, media independence, media environment and self-censorship, legislative framework, transparency, and the quality of the infrastructure that supports the production of news and information.\n",
    "\n",
    "- **Overall Freedom Score**: the all-encompassing metric of press freedom used to rank countries in the RSF Press Freedom Index. The lower the number, the freer the press. The Overall Freedom Score is computed from the incorporation of abuse metrics into the underlying situation score. The abuse score is added to this metric because it is possible that a country has a low situation score (by appearance of conduciveness to free press by other accounts) but has high restrictions on information due to whistle-blowing reporters and organizations being threatened to silence. This metric therefore gives a fuller picture of a country's true freedom of press.\n",
    "\n",
    "\n",
    "- **GDP**: The Gross Domestic Product for a specified year.\n",
    "\n",
    "\n",
    "- **GDP Per Capita**: The Gross Domestic Product divided by the population of country for a specified year.\n",
    "\n",
    "This data is available for **176 countries**, however there may be innacurate or inconsistent due to issues in collection methods."
   ]
  },
  {
   "cell_type": "code",
   "execution_count": null,
   "metadata": {},
   "outputs": [],
   "source": [
    "rsf_codes = rsf_freedom_data[\"Country Code\"].tolist()\n",
    "final = pd.DataFrame()\n",
    "\n",
    "for c in gdp_capita_codes:\n",
    "    if c in rsf_codes:\n",
    "        temp = rsf_freedom_data[rsf_freedom_data[\"Country Code\"] == c]\n",
    "        frames = [final, temp]\n",
    "        final = pd.concat(frames)\n",
    "final = final.drop(['FR_Country', 'EN_country', 'ES_country', 'Zone'], axis=1)\n",
    "real_final = final_gdp_data.merge(final, on = 'Country Code')\n"
   ]
  },
  {
   "cell_type": "markdown",
   "metadata": {},
   "source": [
    "### Freedom Score vs Freedom Index Rank\n",
    "\n",
    "We first chose to explore the relationship between the Overall Freedom Score and the Freedom Rank of the country's in 2016 (this was the most recent data that was provided). This graph shows us that the lower a nation's overall freedom score is, the higher they are ranked, indicating that there is greater freedom of press. As shown in the graph, Norway is 1st in ranking, and has an Overall Freedom Score of 7.63/100. This indicates the greatest freedom of press. North Korea is the lowest rank with an Overall Freedom Score of 88.87/100."
   ]
  },
  {
   "cell_type": "code",
   "execution_count": null,
   "metadata": {},
   "outputs": [],
   "source": [
    "alt.Chart(real_final).mark_circle().encode(\n",
    "    alt.X('Overall Score 2016:Q', axis=alt.Axis(title='Overall Freedom Score in 2016')),\n",
    "    alt.Y('Rank 2017:Q', scale=alt.Scale(zero=False), axis=alt.Axis(title='Freedom Index Rank 2016')),\n",
    "    tooltip=['Country Name_x', 'Rank 2017', 'Overall Score 2016', '2016_y', 'Abuse score 2016'],\n",
    "    color=alt.Color('Country Name_x', legend=None),\n",
    ").properties(\n",
    "    title='Overall Freedom Score v. Freedom Index Rank in 2016'\n",
    ").interactive()\n"
   ]
  },
  {
   "cell_type": "markdown",
   "metadata": {},
   "source": [
    "\n",
    "### Gross Domestic Product vs Overall Freedom Score in 2016\n",
    "\n",
    "To begin answering our question regarding the correlation between the GDP and Press Freedom, we made a scatterplot of the various countries and their Overall Freedom Scores vs. GDP's in 2016. It is very difficult to observe a correlation from this graph, and the data needs to be normalized."
   ]
  },
  {
   "cell_type": "code",
   "execution_count": null,
   "metadata": {},
   "outputs": [],
   "source": [
    "alt.Chart(real_final).mark_circle().encode(\n",
    "    alt.X('2016_x:Q', scale=alt.Scale(type='log'), axis=alt.Axis(title='GDP 2016')),\n",
    "    alt.Y('Overall Score 2016:Q', scale=alt.Scale(zero=False), axis=alt.Axis(title='Overall Freedom Score in 2016')),\n",
    "    color=alt.Color('Country Name_x', legend=None),\n",
    "    tooltip=['Country Name_x', 'Rank 2017', 'Overall Score 2016', '2016_x', 'Abuse score 2016']\n",
    ").properties(\n",
    "    title='GDP 2016 v. Overall Freedom Score in 2016'\n",
    ").interactive()"
   ]
  },
  {
   "cell_type": "markdown",
   "metadata": {},
   "source": [
    "### GDP Per Capita vs Overall Freedom Score in 2016\n",
    "\n",
    "Upon exploring the general relationship between GDP and Overall Freedom scores, we recoginzed that results may be skewed due to population's complex relationship with GDP. To normalize the data and learn about a possible relationship between GDP and quality of life and freedoms, we decided to compare GDP Per Capita and the Overall Freedom Score. From this normalizaton, we were able to see a negative relationship more clearly. As the GDP Per Capita of a country increases, the lower (better) their Overall Freedom Score is. \n",
    "\n",
    "#### Abuse Score\n",
    "We also chose to include the Abuse Score as a metric of interest (via bubble size) to learn more about the relationship between GDP, quality of life and freedoms, and abuse of press. As expected, countries with worse rankings often had higher abuse scores, but there was still variance in the abuse scores even withing the top 30 ranked countries. This indicates that GDP may not be the strongest indicator of press abuse."
   ]
  },
  {
   "cell_type": "code",
   "execution_count": null,
   "metadata": {},
   "outputs": [],
   "source": [
    "alt.Chart(real_final).mark_circle().encode(\n",
    "    alt.X('2016_y:Q', scale=alt.Scale(type='log'), axis=alt.Axis(title='GDP Per Capita 2016')),\n",
    "    alt.Y('Overall Score 2016:Q', scale=alt.Scale(zero=False), axis=alt.Axis(title='Overall Freedom Score in 2016')),\n",
    "    size='Abuse score 2016:Q',\n",
    "    color=alt.Color('Country Name_x', legend=None),\n",
    "    tooltip=['Country Name_x', 'Rank 2017', 'Overall Score 2016', '2016_y', 'Abuse score 2016']\n",
    ").properties(\n",
    "    title='GDP Per Capita v. Overall Freedom Score in 2016'\n",
    ").interactive()"
   ]
  },
  {
   "cell_type": "markdown",
   "metadata": {},
   "source": [
    "### Overall Freedom Score vs Underlying Situation Score in 2016\n",
    "\n",
    "In the RSF data, there are several scores to indicate a country's conduciveness to free press. In order to explore the impact that abuse of press has on a country's press freedom we plotted the Overall Freedom Rank vs. The Underlying Situation Score. As expected, we saw a very strong correlation between the two variables. The Underlying Situation Score (analyzes institutional conduciveness) and Overall Freedom (institutional conduciveness plus abuse) score being equal could mean little impact of abuse on the overall metric of freedom, but there were several countries in which the Freedom Score and the Underlying situation score were not the same. This indicates abuse of media personnel in those countries."
   ]
  },
  {
   "cell_type": "code",
   "execution_count": null,
   "metadata": {},
   "outputs": [],
   "source": [
    "alt.Chart(real_final).mark_circle().encode(\n",
    "    alt.X('Overall Score 2016:Q', axis=alt.Axis(title='Overall Freedom Score in 2016')),\n",
    "    alt.Y('Underlying situation score 2016:Q', scale=alt.Scale(zero=False), axis=alt.Axis(title='Underlying Situation Score in 2016')),\n",
    "    tooltip=['Country Name_x'],\n",
    "    color=alt.Color('Country Name_x', legend=None),\n",
    ").properties(\n",
    "    title='Overall Freedom Score v. Underlying Situation Score in 2016'\n",
    ").interactive()\n",
    "\n"
   ]
  },
  {
   "cell_type": "markdown",
   "metadata": {},
   "source": [
    "### Comparing Overall Freedom & Underlying Situation Scores in Outlier Countries\n",
    "\n",
    "Since several countries in the graph above did not have equal Underlying Situation Scores and Overall Freedom Scores. we were interested in observing how much the scores differed for the outlier countries, since some differences were rather significant. These countries are:\n",
    "\n",
    "- Denmark\n",
    "- Germany\n",
    "- France\n",
    "- United States\n",
    "- Argentina\n",
    "- Malta\n",
    "- Mauritania\n",
    "- Brazil\n",
    "- Afghanistan\n",
    "- Nigeria\n",
    "- Phillipines\n",
    "- India\n",
    "- Mexico\n",
    "- Ethiopia\n",
    "- Russia\n",
    "- Iraq\n",
    "- West Bank and Gaza\n",
    "- Pakistan\n",
    "- Bangladesh\n",
    "- Turkey\n",
    "- Egypt\n",
    "- Syria\n",
    "\n",
    "As shown in the graph below, the underlying situation is certainly a large part of the freedom of the press in the country, but the treatment of the media (often anti-establishment media) also heavily affects the freedom of the press. The Underlying Situation Scores do not take the Abuse Scores into account, we were interested in seeing how much of the Underlying Situation Scores played a part in the Overall Freedom Score. In extension, this can better indicate how Abuse Scores may play a role in how \"free\" a nation's press actually is.\n",
    "\n",
    "The effects of the Abuse Score on the Overall Score is important to note because the Underlying situation score focuses primarily on infrastructural and institutional conduciveness to free press. which can be made to appear rosy. It is possible that a country has a low Underlying Situation Score (by appearance of conduciveness to free press by other accounts) but has high restrictions on information due to whistle-blowing reporters and organizations being threatened to silence (indicated by the Abuse Score). The Overall Score then can be \"corrected\" to encompass the full set of variables and give a more accurate ranking.\n",
    "\n",
    "_*Note some data may not be accurately captured in the dataset. These missing values for Abuse Scores could be due to hushing, lack of information and networking, imprisonment, or normative behaviors for government retaliation. For example, Equitorial Guinea scored a zero on the Abuse Score when it is very low ranked, indicating that it is not country conducive to free press. This may be resultant of lack of data from RSF surveys rather than no incidents._\n"
   ]
  },
  {
   "cell_type": "code",
   "execution_count": null,
   "metadata": {},
   "outputs": [],
   "source": [
    "outliers = [\"Denmark\", \"Germany\", \"France\", \"US\", \"Argentina\", \"Malta\", \"Mauritania\", \"Brazil\", \"Afghanistan\"\n",
    "\"Nigeria\", \"Phillipines\", \"India\", \"Mexico\", \"Ethiopia\", \"Russia\", \"Iraq\" \"West Bank and Gaza\", 'Pakistan', 'Bangladesh', \n",
    "           'Turkey', 'Egypt, Arab Rep.', 'Syrian Arab Republic']\n",
    "\n",
    "outlier_pd = pd.DataFrame()\n",
    "for country in outliers:\n",
    "    temp = real_final[real_final[\"Country Name_x\"] == country]\n",
    "    frames = [outlier_pd, temp]\n",
    "    outlier_pd = pd.concat(frames)\n",
    "\n",
    "situation_chart = alt.Chart(outlier_pd).mark_bar().encode(\n",
    "    alt.X('Country Name_x', axis=alt.Axis(title='Country Name')),\n",
    "    alt.Y('Underlying situation score 2016'),\n",
    "    color=alt.value(\"orange\"),\n",
    "    tooltip=['Country Name_x', 'Underlying situation score 2016'],\n",
    ")\n",
    "\n",
    "overall_chart = alt.Chart(outlier_pd).mark_bar().encode(\n",
    "    alt.X('Country Name_x'),\n",
    "    alt.Y('Overall Score 2016'),\n",
    "    tooltip=['Country Name_x', 'Overall Score 2016'],\n",
    ")\n",
    "\n",
    "overall_chart + situation_chart "
   ]
  },
  {
   "cell_type": "markdown",
   "metadata": {},
   "source": [
    "## Statistical Modeling\n"
   ]
  },
  {
   "cell_type": "markdown",
   "metadata": {},
   "source": [
    "### Weighted Least Squares for GDP Per Capita and Overall Freedom Score\n",
    "\n",
    "To assess the correlation between GDP Per Capita (2016) and the Overall Fredom Score in 2016, we ran a WLS Regression. We chose WLS instead of OLS because this data has high heteroskedasticity (the variability of one variable is unequal across the range of values of a second variable that predicts it). Our R-squared came out to .165, meaning that the model explains only 16.5% of the variance. Therefore we can assess that though there is a statistically-significant correlation between the two variables, there isn't a very strong one."
   ]
  },
  {
   "cell_type": "code",
   "execution_count": null,
   "metadata": {},
   "outputs": [],
   "source": [
    "#Linear Regression Model to assess correlation between GDP per Capita in 2016 and Overall Score in 2016\n",
    "md = sm.WLS(real_final['2016_y'], real_final['Overall Score 2016'])\n",
    "mdf = md.fit()\n",
    "mdf.summary()"
   ]
  },
  {
   "cell_type": "markdown",
   "metadata": {},
   "source": [
    "The plot below also shows the linear model on top of the data, and it is very clear that it is not very accurate, though it can reflect a slight trend."
   ]
  },
  {
   "cell_type": "markdown",
   "metadata": {},
   "source": []
  },
  {
   "cell_type": "code",
   "execution_count": null,
   "metadata": {},
   "outputs": [],
   "source": [
    "model = sns.lmplot(x=\"2016_y\", y=\"Overall Score 2016\", data=real_final, scatter_kws={'alpha':0.3})\n",
    "model.set(xlabel='GDP per Capita (2016)', ylabel='Overall Freedom Score')\n",
    "model.set(title ='Overall Freedom Score vs GDP Per Capita in 2016')\n"
   ]
  },
  {
   "cell_type": "markdown",
   "metadata": {},
   "source": [
    "### Difference in Differences (Ordinary Least Squares) Part 1\n",
    "\n",
    "Using the DID method for \"case study\" samples/observations of data, we randomly selected two countries with high GDP's and two countries with low GDP's and compared the correlations of GDP to Overall Freedom Score. The randomly selected countries were Bulgaria, France, Burundi, and Bahrain. In this particular sample, we found that R-Squared was .047, which is considerably higher than the general linear model."
   ]
  },
  {
   "cell_type": "code",
   "execution_count": null,
   "metadata": {},
   "outputs": [],
   "source": [
    "#Contrast how Freedom Index has changed in countries with low and high GDP? (Pick 1-2 countries on each side) Does having a high/low GDP affect Freedom Index? (Difference in Differences)\n",
    "bulgaria = real_final[real_final['Country Code'] == 'BGR']\n",
    "france = real_final[real_final['Country Code'] == 'FRA']\n",
    "burundi = real_final[real_final['Country Code'] == 'BDI']\n",
    "bahrain = real_final[real_final['Country Code'] == 'BHR']\n",
    "differences = pd.DataFrame()\n",
    "frames = [differences, bulgaria, france]\n",
    "differences = pd.concat(frames)\n",
    "md = sm.OLS(differences['2016_y'], differences['Overall Score 2016'])\n",
    "mdf = md.fit()\n",
    "mdf.summary()\n"
   ]
  },
  {
   "cell_type": "markdown",
   "metadata": {},
   "source": [
    "### Difference in Differences (Ordinary Least Squares) Part 2\n",
    "\n",
    "We again used the DID method with Burundi and Bahrain to examine the correlation between GDP and Overall Freedom. The R-Squared value was 0.56, which is again considerably higher than the general linear model."
   ]
  },
  {
   "cell_type": "code",
   "execution_count": null,
   "metadata": {},
   "outputs": [],
   "source": [
    "burundi = real_final[real_final['Country Code'] == 'BDI']\n",
    "bahrain = real_final[real_final['Country Code'] == 'BHR']\n",
    "differences = pd.DataFrame()\n",
    "frames = [differences, burundi, bahrain]\n",
    "differences = pd.concat(frames)\n",
    "md = sm.OLS(differences['2016_y'], differences['Overall Score 2016'])\n",
    "mdf = md.fit()\n",
    "mdf.summary()\n"
   ]
  },
  {
   "cell_type": "markdown",
   "metadata": {},
   "source": [
    "## Conclusion\n",
    "\n",
    "In this resource, we explored the relationship between GDP and Press Freedoms through a linear model. We found in our exploratory analysis that GDP and GDP per capita weren’t the best indicators of Press Freedom via graphical correlations. The linear model also showed that the relationship did not explain much of the variance in the data, though there was a statistically-significant correlation. From this, we can gather that it is unlikely that just one variable alone (GDP) dictates the freedom of press.\n",
    "\n",
    "Our failure to reject the null hypothesis also may negate common perceptions that countries that have economic prosperity enjoy greater freedoms than countries that are less economically prosperous. Countries like the United States which herald liberty, are Democratic, and have some of the largest GDP's actually barely reach the top 40 for press freedoms and have high Abuse Scores (The United States is Rankked 45th, and has an abuse score of 37.40). Whereas Sweden, a democracy with more \"socialist\" policies, has a far lower GDP (though more or less equivalent GDP Per Capita), is ranked 2nd with an Abuse Score of 0. \n",
    "\n",
    "In future work, we would like to ask more questions about what truly affects freedom. This would begin with exploring the correlations between press freedoms and other variables like political regime, and grow the model to become a multivariate one. This model could also be expanded beyond freedom of the press to encompass other civic freedoms like voting accessibility."
   ]
  },
  {
   "cell_type": "code",
   "execution_count": null,
   "metadata": {},
   "outputs": [],
   "source": [
    "real_final.to_csv('./final.csv')"
   ]
  }
 ],
 "metadata": {
  "kernelspec": {
   "display_name": "Python 3",
   "language": "python",
   "name": "python3"
  },
  "language_info": {
   "codemirror_mode": {
    "name": "ipython",
    "version": 3
   },
   "file_extension": ".py",
   "mimetype": "text/x-python",
   "name": "python",
   "nbconvert_exporter": "python",
   "pygments_lexer": "ipython3",
   "version": "3.7.0"
  }
 },
 "nbformat": 4,
 "nbformat_minor": 2
}
